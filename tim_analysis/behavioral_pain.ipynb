{
 "cells": [
  {
   "cell_type": "code",
   "execution_count": 2,
   "id": "95167ebd",
   "metadata": {},
   "outputs": [],
   "source": [
    "import pandas as pd\n",
    "import os\n",
    "import seaborn as sns\n",
    "import matplotlib.pyplot as plt\n",
    "\n",
    "path = os.path.expanduser(\"~/Downloads/tim_data\")\n",
    "\n",
    "colors = [\"Green\", \"Yellow\", \"\", \"Red\"]\n",
    "\n",
    "events = [21, 22, 23, 24, 25, 26,\n",
    "          41, 42, 43, 44, 45, 46,\n",
    "          81, 82, 83, 84, 85, 86]\n",
    "\n",
    "columns = [\"Event.Name\", \"Color\", \"Step\", \"SCR\"]\n",
    "\n",
    "all_subjects = pd.DataFrame(columns=columns)"
   ]
  },
  {
   "cell_type": "code",
   "execution_count": 8,
   "id": "3381bb50",
   "metadata": {},
   "outputs": [
    {
     "name": "stdout",
     "output_type": "stream",
     "text": [
      "Processing subject sub-489\n",
      "Processing subject sub-509\n",
      "Processing subject sub-507\n",
      "Processing subject sub-500\n",
      "Processing subject sub-506\n",
      "Processing subject sub-508\n",
      "Processing subject sub-515\n",
      "Processing subject sub-512\n",
      "Processing subject sub-513\n",
      "Processing subject sub-514\n",
      "Processing subject sub-503\n",
      "Processing subject sub-504\n",
      "Processing subject sub-505\n",
      "Processing subject sub-502\n",
      "Processing subject sub-511\n",
      "Processing subject sub-516\n",
      "Processing subject sub-510\n"
     ]
    },
    {
     "name": "stderr",
     "output_type": "stream",
     "text": [
      "/var/folders/bx/rq2wdz0j56573ttp8p0y1z900000gn/T/ipykernel_30460/3535167352.py:15: FutureWarning: The behavior of DataFrame concatenation with empty or all-NA entries is deprecated. In a future version, this will no longer exclude empty or all-NA columns when determining the result dtypes. To retain the old behavior, exclude the relevant entries before the concat operation.\n",
      "  all_subjects = pd.concat([all_subjects, df[columns]], ignore_index=True)\n"
     ]
    }
   ],
   "source": [
    "for file in os.listdir(path):\n",
    "    if not os.path.isdir(os.path.join(path, file)):\n",
    "        continue\n",
    "    if \".DS_Store\" in file:\n",
    "        continue\n",
    "    subject = file\n",
    "    print(f\"Processing subject {subject}\")\n",
    "    df = pd.read_csv(os.path.join(path, file, f\"{subject}_era_2s.txt\"), sep=\"\\t\")\n",
    "    df = df[df[\"Event.Name\"].isin(events)]\n",
    "\n",
    "    df[\"Color\"] = [colors[int(name) // 20 - 1] for name in df[\"Event.Name\"]]\n",
    "    df[\"Step\"] = [int(name) % 10 for name in df[\"Event.Name\"]]\n",
    "    df[\"SCR\"] = df[\"Global.Mean\"] - df[\"CDA.Tonic\"]\n",
    "\n",
    "    all_subjects = pd.concat([all_subjects, df[columns]], ignore_index=True)\n"
   ]
  },
  {
   "cell_type": "code",
   "execution_count": 9,
   "id": "69c171b7",
   "metadata": {},
   "outputs": [
    {
     "data": {
      "text/html": [
       "<div>\n",
       "<style scoped>\n",
       "    .dataframe tbody tr th:only-of-type {\n",
       "        vertical-align: middle;\n",
       "    }\n",
       "\n",
       "    .dataframe tbody tr th {\n",
       "        vertical-align: top;\n",
       "    }\n",
       "\n",
       "    .dataframe thead th {\n",
       "        text-align: right;\n",
       "    }\n",
       "</style>\n",
       "<table border=\"1\" class=\"dataframe\">\n",
       "  <thead>\n",
       "    <tr style=\"text-align: right;\">\n",
       "      <th></th>\n",
       "      <th>Event.Name</th>\n",
       "      <th>Color</th>\n",
       "      <th>Step</th>\n",
       "      <th>SCR</th>\n",
       "    </tr>\n",
       "  </thead>\n",
       "  <tbody>\n",
       "    <tr>\n",
       "      <th>0</th>\n",
       "      <td>81</td>\n",
       "      <td>Red</td>\n",
       "      <td>1</td>\n",
       "      <td>1.7257</td>\n",
       "    </tr>\n",
       "    <tr>\n",
       "      <th>1</th>\n",
       "      <td>82</td>\n",
       "      <td>Red</td>\n",
       "      <td>2</td>\n",
       "      <td>0.8967</td>\n",
       "    </tr>\n",
       "    <tr>\n",
       "      <th>2</th>\n",
       "      <td>83</td>\n",
       "      <td>Red</td>\n",
       "      <td>3</td>\n",
       "      <td>0.9581</td>\n",
       "    </tr>\n",
       "    <tr>\n",
       "      <th>3</th>\n",
       "      <td>84</td>\n",
       "      <td>Red</td>\n",
       "      <td>4</td>\n",
       "      <td>0.8293</td>\n",
       "    </tr>\n",
       "    <tr>\n",
       "      <th>4</th>\n",
       "      <td>85</td>\n",
       "      <td>Red</td>\n",
       "      <td>5</td>\n",
       "      <td>0.5640</td>\n",
       "    </tr>\n",
       "  </tbody>\n",
       "</table>\n",
       "</div>"
      ],
      "text/plain": [
       "  Event.Name Color Step     SCR\n",
       "0         81   Red    1  1.7257\n",
       "1         82   Red    2  0.8967\n",
       "2         83   Red    3  0.9581\n",
       "3         84   Red    4  0.8293\n",
       "4         85   Red    5  0.5640"
      ]
     },
     "execution_count": 9,
     "metadata": {},
     "output_type": "execute_result"
    }
   ],
   "source": [
    "all_subjects.head()"
   ]
  },
  {
   "cell_type": "code",
   "execution_count": 10,
   "id": "9e6e8c1c",
   "metadata": {},
   "outputs": [
    {
     "data": {
      "text/html": [
       "<div>\n",
       "<style scoped>\n",
       "    .dataframe tbody tr th:only-of-type {\n",
       "        vertical-align: middle;\n",
       "    }\n",
       "\n",
       "    .dataframe tbody tr th {\n",
       "        vertical-align: top;\n",
       "    }\n",
       "\n",
       "    .dataframe thead th {\n",
       "        text-align: right;\n",
       "    }\n",
       "</style>\n",
       "<table border=\"1\" class=\"dataframe\">\n",
       "  <thead>\n",
       "    <tr style=\"text-align: right;\">\n",
       "      <th></th>\n",
       "      <th>Event.Name</th>\n",
       "      <th>Color</th>\n",
       "      <th>Step</th>\n",
       "      <th>SCR</th>\n",
       "    </tr>\n",
       "  </thead>\n",
       "  <tbody>\n",
       "    <tr>\n",
       "      <th>0</th>\n",
       "      <td>81</td>\n",
       "      <td>Red</td>\n",
       "      <td>1</td>\n",
       "      <td>1.7257</td>\n",
       "    </tr>\n",
       "    <tr>\n",
       "      <th>1</th>\n",
       "      <td>82</td>\n",
       "      <td>Red</td>\n",
       "      <td>2</td>\n",
       "      <td>0.8967</td>\n",
       "    </tr>\n",
       "    <tr>\n",
       "      <th>2</th>\n",
       "      <td>83</td>\n",
       "      <td>Red</td>\n",
       "      <td>3</td>\n",
       "      <td>0.9581</td>\n",
       "    </tr>\n",
       "    <tr>\n",
       "      <th>3</th>\n",
       "      <td>84</td>\n",
       "      <td>Red</td>\n",
       "      <td>4</td>\n",
       "      <td>0.8293</td>\n",
       "    </tr>\n",
       "    <tr>\n",
       "      <th>4</th>\n",
       "      <td>85</td>\n",
       "      <td>Red</td>\n",
       "      <td>5</td>\n",
       "      <td>0.5640</td>\n",
       "    </tr>\n",
       "    <tr>\n",
       "      <th>...</th>\n",
       "      <td>...</td>\n",
       "      <td>...</td>\n",
       "      <td>...</td>\n",
       "      <td>...</td>\n",
       "    </tr>\n",
       "    <tr>\n",
       "      <th>3064</th>\n",
       "      <td>82</td>\n",
       "      <td>Red</td>\n",
       "      <td>2</td>\n",
       "      <td>0.0231</td>\n",
       "    </tr>\n",
       "    <tr>\n",
       "      <th>3065</th>\n",
       "      <td>83</td>\n",
       "      <td>Red</td>\n",
       "      <td>3</td>\n",
       "      <td>0.0173</td>\n",
       "    </tr>\n",
       "    <tr>\n",
       "      <th>3066</th>\n",
       "      <td>84</td>\n",
       "      <td>Red</td>\n",
       "      <td>4</td>\n",
       "      <td>0.0437</td>\n",
       "    </tr>\n",
       "    <tr>\n",
       "      <th>3067</th>\n",
       "      <td>85</td>\n",
       "      <td>Red</td>\n",
       "      <td>5</td>\n",
       "      <td>0.1175</td>\n",
       "    </tr>\n",
       "    <tr>\n",
       "      <th>3068</th>\n",
       "      <td>86</td>\n",
       "      <td>Red</td>\n",
       "      <td>6</td>\n",
       "      <td>0.1163</td>\n",
       "    </tr>\n",
       "  </tbody>\n",
       "</table>\n",
       "<p>3069 rows × 4 columns</p>\n",
       "</div>"
      ],
      "text/plain": [
       "     Event.Name Color Step     SCR\n",
       "0            81   Red    1  1.7257\n",
       "1            82   Red    2  0.8967\n",
       "2            83   Red    3  0.9581\n",
       "3            84   Red    4  0.8293\n",
       "4            85   Red    5  0.5640\n",
       "...         ...   ...  ...     ...\n",
       "3064         82   Red    2  0.0231\n",
       "3065         83   Red    3  0.0173\n",
       "3066         84   Red    4  0.0437\n",
       "3067         85   Red    5  0.1175\n",
       "3068         86   Red    6  0.1163\n",
       "\n",
       "[3069 rows x 4 columns]"
      ]
     },
     "execution_count": 10,
     "metadata": {},
     "output_type": "execute_result"
    }
   ],
   "source": [
    "all_subjects"
   ]
  },
  {
   "cell_type": "code",
   "execution_count": 11,
   "id": "1e9fce18",
   "metadata": {},
   "outputs": [],
   "source": [
    "length = len(all_subjects)\n",
    "trials = length / 17 / 6"
   ]
  },
  {
   "cell_type": "code",
   "execution_count": 12,
   "id": "c88ba9e4",
   "metadata": {},
   "outputs": [
    {
     "data": {
      "text/plain": [
       "30.08823529411765"
      ]
     },
     "execution_count": 12,
     "metadata": {},
     "output_type": "execute_result"
    }
   ],
   "source": [
    "trials"
   ]
  },
  {
   "cell_type": "code",
   "execution_count": 21,
   "id": "3a2855fa",
   "metadata": {},
   "outputs": [
    {
     "name": "stderr",
     "output_type": "stream",
     "text": [
      "/Users/omerdayan/anaconda3/lib/python3.11/site-packages/seaborn/_oldcore.py:1498: FutureWarning: is_categorical_dtype is deprecated and will be removed in a future version. Use isinstance(dtype, CategoricalDtype) instead\n",
      "  if pd.api.types.is_categorical_dtype(vector):\n",
      "/Users/omerdayan/anaconda3/lib/python3.11/site-packages/seaborn/_oldcore.py:1498: FutureWarning: is_categorical_dtype is deprecated and will be removed in a future version. Use isinstance(dtype, CategoricalDtype) instead\n",
      "  if pd.api.types.is_categorical_dtype(vector):\n",
      "/Users/omerdayan/anaconda3/lib/python3.11/site-packages/seaborn/_oldcore.py:1498: FutureWarning: is_categorical_dtype is deprecated and will be removed in a future version. Use isinstance(dtype, CategoricalDtype) instead\n",
      "  if pd.api.types.is_categorical_dtype(vector):\n",
      "/Users/omerdayan/anaconda3/lib/python3.11/site-packages/seaborn/_oldcore.py:1498: FutureWarning: is_categorical_dtype is deprecated and will be removed in a future version. Use isinstance(dtype, CategoricalDtype) instead\n",
      "  if pd.api.types.is_categorical_dtype(vector):\n",
      "/Users/omerdayan/anaconda3/lib/python3.11/site-packages/seaborn/_oldcore.py:1498: FutureWarning: is_categorical_dtype is deprecated and will be removed in a future version. Use isinstance(dtype, CategoricalDtype) instead\n",
      "  if pd.api.types.is_categorical_dtype(vector):\n",
      "/Users/omerdayan/anaconda3/lib/python3.11/site-packages/seaborn/_oldcore.py:1498: FutureWarning: is_categorical_dtype is deprecated and will be removed in a future version. Use isinstance(dtype, CategoricalDtype) instead\n",
      "  if pd.api.types.is_categorical_dtype(vector):\n"
     ]
    },
    {
     "data": {
      "text/plain": [
       "Text(42.945208333333326, 0.5, 'SCR')"
      ]
     },
     "execution_count": 21,
     "metadata": {},
     "output_type": "execute_result"
    },
    {
     "data": {
      "image/png": "[encoded data removed]",
      "text/plain": [
       "<Figure size 592.625x500 with 1 Axes>"
      ]
     },
     "metadata": {},
     "output_type": "display_data"
    }
   ],
   "source": [
    "import seaborn as sns\n",
    "\n",
    "color_map = {\n",
    "        'Red': 'red',\n",
    "        'Yellow': 'orange',\n",
    "        'Green': 'green'\n",
    "    }\n",
    "\n",
    "\n",
    "sns.catplot(data=all_subjects, x=\"Step\", y=\"SCR\", hue=\"Color\", errorbar=\"se\", capsize=.2, kind=\"point\", palette=color_map)\n",
    "plt.ylim(0, .3)\n",
    "plt.title(f\"Skin Conductance Response\")\n",
    "plt.xlabel(\"Event Type\")\n",
    "plt.ylabel(\"SCR\")"
   ]
  },
  {
   "cell_type": "code",
   "execution_count": null,
   "id": "d07cca40",
   "metadata": {},
   "outputs": [],
   "source": []
  }
 ],
 "metadata": {
  "kernelspec": {
   "display_name": "base",
   "language": "python",
   "name": "python3"
  },
  "language_info": {
   "codemirror_mode": {
    "name": "ipython",
    "version": 3
   },
   "file_extension": ".py",
   "mimetype": "text/x-python",
   "name": "python",
   "nbconvert_exporter": "python",
   "pygments_lexer": "ipython3",
   "version": "3.11.4"
  }
 },
 "nbformat": 4,
 "nbformat_minor": 5
}
